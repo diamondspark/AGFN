{
 "cells": [
  {
   "cell_type": "code",
   "execution_count": null,
   "metadata": {},
   "outputs": [],
   "source": [
    "import pickle\n",
    "import Chem"
   ]
  },
  {
   "cell_type": "code",
   "execution_count": 2,
   "metadata": {},
   "outputs": [
    {
     "data": {
      "text/plain": [
       "[<rdkit.Chem.rdchem.Mol at 0x7f4e97dd3ea0>,\n",
       " <rdkit.Chem.rdchem.Mol at 0x7f4ecf6a5680>,\n",
       " <rdkit.Chem.rdchem.Mol at 0x7f4ecf57e630>,\n",
       " <rdkit.Chem.rdchem.Mol at 0x7f4ecf57e770>,\n",
       " <rdkit.Chem.rdchem.Mol at 0x7f4ecf57ec20>,\n",
       " <rdkit.Chem.rdchem.Mol at 0x7f4ecf57e310>,\n",
       " <rdkit.Chem.rdchem.Mol at 0x7f4ecf57e9a0>,\n",
       " <rdkit.Chem.rdchem.Mol at 0x7f4ecf57ef90>,\n",
       " <rdkit.Chem.rdchem.Mol at 0x7f4ecf57ebd0>,\n",
       " <rdkit.Chem.rdchem.Mol at 0x7f4e97d2c6d0>,\n",
       " <rdkit.Chem.rdchem.Mol at 0x7f4e97d301d0>,\n",
       " <rdkit.Chem.rdchem.Mol at 0x7f4e97d30270>,\n",
       " <rdkit.Chem.rdchem.Mol at 0x7f4e9781a950>,\n",
       " <rdkit.Chem.rdchem.Mol at 0x7f4e9781a9a0>,\n",
       " <rdkit.Chem.rdchem.Mol at 0x7f4e9781a9f0>,\n",
       " <rdkit.Chem.rdchem.Mol at 0x7f4e9781aa40>,\n",
       " <rdkit.Chem.rdchem.Mol at 0x7f4e9781aa90>,\n",
       " <rdkit.Chem.rdchem.Mol at 0x7f4e9781aae0>,\n",
       " <rdkit.Chem.rdchem.Mol at 0x7f4e9781ab30>,\n",
       " <rdkit.Chem.rdchem.Mol at 0x7f4e9781ab80>,\n",
       " <rdkit.Chem.rdchem.Mol at 0x7f4e9781abd0>,\n",
       " <rdkit.Chem.rdchem.Mol at 0x7f4e9781ac20>,\n",
       " <rdkit.Chem.rdchem.Mol at 0x7f4e9781ac70>,\n",
       " <rdkit.Chem.rdchem.Mol at 0x7f4e9781acc0>,\n",
       " <rdkit.Chem.rdchem.Mol at 0x7f4e9781ad10>,\n",
       " <rdkit.Chem.rdchem.Mol at 0x7f4e9781ad60>,\n",
       " <rdkit.Chem.rdchem.Mol at 0x7f4e9781adb0>,\n",
       " <rdkit.Chem.rdchem.Mol at 0x7f4e9781ae00>,\n",
       " <rdkit.Chem.rdchem.Mol at 0x7f4e9781ae50>,\n",
       " <rdkit.Chem.rdchem.Mol at 0x7f4e9781aea0>,\n",
       " <rdkit.Chem.rdchem.Mol at 0x7f4e9781aef0>,\n",
       " <rdkit.Chem.rdchem.Mol at 0x7f4e9781af40>,\n",
       " <rdkit.Chem.rdchem.Mol at 0x7f4e9781af90>,\n",
       " <rdkit.Chem.rdchem.Mol at 0x7f4e97832040>,\n",
       " <rdkit.Chem.rdchem.Mol at 0x7f4e97832090>,\n",
       " <rdkit.Chem.rdchem.Mol at 0x7f4e978320e0>,\n",
       " <rdkit.Chem.rdchem.Mol at 0x7f4e97832130>,\n",
       " <rdkit.Chem.rdchem.Mol at 0x7f4e97832180>,\n",
       " <rdkit.Chem.rdchem.Mol at 0x7f4e978321d0>,\n",
       " <rdkit.Chem.rdchem.Mol at 0x7f4e97832220>,\n",
       " <rdkit.Chem.rdchem.Mol at 0x7f4e97832270>,\n",
       " <rdkit.Chem.rdchem.Mol at 0x7f4e978322c0>,\n",
       " <rdkit.Chem.rdchem.Mol at 0x7f4e97832310>,\n",
       " <rdkit.Chem.rdchem.Mol at 0x7f4e97832360>,\n",
       " <rdkit.Chem.rdchem.Mol at 0x7f4e978323b0>,\n",
       " <rdkit.Chem.rdchem.Mol at 0x7f4e97832400>,\n",
       " <rdkit.Chem.rdchem.Mol at 0x7f4e97832450>,\n",
       " <rdkit.Chem.rdchem.Mol at 0x7f4e978324a0>,\n",
       " <rdkit.Chem.rdchem.Mol at 0x7f4e978324f0>,\n",
       " <rdkit.Chem.rdchem.Mol at 0x7f4e97832540>,\n",
       " <rdkit.Chem.rdchem.Mol at 0x7f4e97832590>,\n",
       " <rdkit.Chem.rdchem.Mol at 0x7f4e978325e0>,\n",
       " <rdkit.Chem.rdchem.Mol at 0x7f4e97832630>,\n",
       " <rdkit.Chem.rdchem.Mol at 0x7f4e97832680>,\n",
       " <rdkit.Chem.rdchem.Mol at 0x7f4e978326d0>,\n",
       " <rdkit.Chem.rdchem.Mol at 0x7f4e97832720>,\n",
       " <rdkit.Chem.rdchem.Mol at 0x7f4e97832770>,\n",
       " <rdkit.Chem.rdchem.Mol at 0x7f4e978327c0>,\n",
       " <rdkit.Chem.rdchem.Mol at 0x7f4e97832810>,\n",
       " <rdkit.Chem.rdchem.Mol at 0x7f4e97832860>,\n",
       " <rdkit.Chem.rdchem.Mol at 0x7f4e978328b0>,\n",
       " <rdkit.Chem.rdchem.Mol at 0x7f4e97832900>,\n",
       " <rdkit.Chem.rdchem.Mol at 0x7f4e97832950>,\n",
       " <rdkit.Chem.rdchem.Mol at 0x7f4e978329a0>]"
      ]
     },
     "execution_count": 2,
     "metadata": {},
     "output_type": "execute_result"
    }
   ],
   "source": [
    "with open('/groups/cherkasvgrp/Student_backup/mkpandey/gfn_pretrain_test_env_public/data/gfn_samples/GFN_gen_samples_5ht1b/sampled_mols.pkl','rb') as f:\n",
    "    sampled_mols = pickle.load(f)\n",
    "sampled_mols"
   ]
  },
  {
   "cell_type": "code",
   "execution_count": null,
   "metadata": {},
   "outputs": [],
   "source": []
  }
 ],
 "metadata": {
  "kernelspec": {
   "display_name": "gfncondaTDC",
   "language": "python",
   "name": "python3"
  },
  "language_info": {
   "codemirror_mode": {
    "name": "ipython",
    "version": 3
   },
   "file_extension": ".py",
   "mimetype": "text/x-python",
   "name": "python",
   "nbconvert_exporter": "python",
   "pygments_lexer": "ipython3",
   "version": "3.8.20"
  }
 },
 "nbformat": 4,
 "nbformat_minor": 2
}
